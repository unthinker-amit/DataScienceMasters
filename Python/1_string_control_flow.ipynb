{
 "cells": [
  {
   "cell_type": "markdown",
   "id": "cf42b18c",
   "metadata": {
    "id": "iLIEkHepBIdB"
   },
   "source": [
    "## 1.1 Introduction\n",
    "\n"
   ]
  },
  {
   "cell_type": "markdown",
   "id": "cd3c8d59",
   "metadata": {},
   "source": [
    "* Python is an-  \n",
    "> * interpreted, \n",
    "> * object-oriented, \n",
    "> * high-level programming language with dynamic semantics. \n",
    "\n",
    "* It was created by **[Guido van Rossum](https://en.wikipedia.org/wiki/Guido_van_Rossum)** and first released in the year **1991**.\n",
    "\n",
    "* It has the following features that makes it very attractive for Rapid Application Development, as well as for use as a scripting or glue language to connect existing components together - \n",
    "> * high-level built in data structures, \n",
    "> * dynamic typing\n",
    "> * dynamic binding\n",
    "\n",
    "* Python's simple, easy to learn syntax emphasizes on code readability with the use of whitespaces and therefore reduces the cost of program maintenance.\n",
    "\n",
    "* Python supports modules and packages, which encourages program modularity and code reuse. \n",
    "\n",
    "* The Python interpreter and the extensive standard library are available in source or binary form without charge for all major platforms, and can be freely distributed.\n",
    "\n",
    "* Python is a great general-purpose programming language on its own, but with the help of a few popular libraries (numpy, scipy, matplotlib) it becomes a powerful environment for scientific computing.\n",
    "\n",
    "---"
   ]
  },
  {
   "cell_type": "markdown",
   "id": "3ab4d26c",
   "metadata": {},
   "source": [
    "## 1.2 Python Version\n",
    "\n"
   ]
  },
  {
   "cell_type": "markdown",
   "id": "02b34ba9",
   "metadata": {
    "id": "X7tHl0nzFwjW"
   },
   "source": [
    "### 1.2.1 Python 2\n",
    "* Published in late 2000, Python 2 signalled a more transparent and inclusive language development process than earlier versions of Python with the implementation of PEP (Python Enhancement Proposal), a technical specification that either provides information to Python community members or describes a new feature of the language.\n",
    "* Additionally, Python 2 included many more programmatic features including a cycle-detecting garbage collector to automate memory management, increased Unicode support to standardize characters, and list comprehensions to create a list based on existing lists. As Python 2 continued to develop, more features were added, including unifying Python’s types and classes into one hierarchy in Python version 2.2.\n",
    "\n"
   ]
  },
  {
   "cell_type": "markdown",
   "id": "91d1334a",
   "metadata": {
    "id": "mUKjMuUxF3mw"
   },
   "source": [
    "\n",
    "### 1.2.2 Python 3\n",
    "* Python 3 is regarded as the future of Python and is the version of the language that is currently in development. A major overhaul, Python 3 was released in late 2008 to address and amend intrinsic design flaws of previous versions of the language. The focus of Python 3 development was to clean up the codebase and remove redundancy, making it clear that there was only one way to perform a given task.\n",
    "* Major modifications to Python 3.0 included changing the print statement into a built-in function, improve the way integers are divided, and providing more Unicode support.\n",
    "* At first, Python 3 was slowly adopted due to the language not being backwards compatible with Python 2, requiring people to make a decision as to which version of the language to use. Additionally, many package libraries were only available for Python 2, but as the development team behind Python 3 has reiterated that there is an end of life for Python 2 support, more libraries have been ported to Python 3. The increased adoption of Python 3 can be shown by the number of Python packages that now provide Python 3 support, which at the time of writing includes 339 of the 360 most popular Python packages.\n",
    "\n"
   ]
  },
  {
   "cell_type": "markdown",
   "id": "49d32821",
   "metadata": {
    "id": "zLShgYcsF8ff"
   },
   "source": [
    "### 1.2.3 Python 2.7\n",
    "* Following the 2008 release of Python 3.0, Python 2.7 was published on July 3, 2010 and planned as the last of the 2.x releases. The intention behind Python 2.7 was to make it easier for Python 2.x users to port features over to Python 3 by providing some measure of compatibility between the two. This compatibility support included enhanced modules for version 2.7 like unittest to support test automation, argparse for parsing command-line options, and more convenient classes in collections.\n",
    "* Because of Python 2.7’s unique position as a version in between the earlier iterations of Python 2 and Python 3.0, it has persisted as a very popular choice for programmers due to its compatibility with many robust libraries. When we talk about Python 2 today, we are typically referring to the Python 2.7 release as that is the most frequently used version.\n",
    "* Python 2.7, however, is considered to be a legacy language and its continued development, which today mostly consists of bug fixes, will cease completely in 2020.\n",
    "\n"
   ]
  },
  {
   "cell_type": "markdown",
   "id": "14a6b021",
   "metadata": {
    "id": "-JkwhDKjF-Fi"
   },
   "source": [
    "### 1.2.4 Key Differences\n",
    "* While Python 2.7 and Python 3 share many similar capabilities, they should not be thought of as entirely interchangeable. Though you can write good code and useful programs in either version, it is worth understanding that there will be some considerable differences in code syntax and handling.\n",
    "\n"
   ]
  },
  {
   "cell_type": "markdown",
   "id": "9a10cc77",
   "metadata": {},
   "source": [
    "## 1.3 Why to use Python?\n"
   ]
  },
  {
   "cell_type": "markdown",
   "id": "e16e522c",
   "metadata": {
    "id": "3EZQhzqjcDU3"
   },
   "source": [
    "###\n",
    "Among numerous languages available in the market why should you choose python? This is the first question that arises in the mind of new users.\n",
    "\n",
    "Following are the som of the reasons why people select python-\n",
    "\n",
    "\n",
    "* **Quality of software**:\n",
    "Python was meant for readability. Its reusable and maintainable as compared to other languages. Its easier to understand. It supports all the modern features like OOPs and functional programming.\n",
    "\n",
    "* **Productivity of Developers**:\n",
    "The same program which is written in other high-level languages like c++ or java can be written in one-third or one-fifth line of codes. That means debugging can be easy and it will be less prone to error which in turn increases the productivity of the developers.\n",
    "\n",
    "* **Portability**:\n",
    "Mostly it’s platform-independent. It can run on any platform or OS with minor or no change at all which makes it a highly portable language. Now you can use MircoPython to interact with hardware as well. It can be used on most of the edge devices.\n",
    "\n",
    "* **Supporting Libraries**:\n",
    "Python already has a lot of inbuilt libraries that come with the standard python package which you download from its <a href=\"https://www.python.org/\"  target=\"_blank\">official site</a>. With these libraries, you can build lots of basic applications or day to day automation tasks like copying data in bulk from one place to another. Apart from this, there’s a huge list of third-party libraries like Numpy, Matplotlib, Scikit Learn, etc.\n",
    "\n",
    "* **Fun to use**:\n",
    "Its simplicity and availability of lots of supporting libraries plus huge open source community support make development in python a breeze. That’s why its widely preferred by hobbyists as well.\n",
    "\n",
    "\n",
    "\n",
    "\n"
   ]
  },
  {
   "cell_type": "markdown",
   "id": "0aca3a08-7ee3-46ab-a958-abe2a8a34579",
   "metadata": {},
   "source": [
    "## string"
   ]
  },
  {
   "cell_type": "code",
   "execution_count": 24,
   "id": "30d8f0c7-4263-4199-a958-f01770a259fb",
   "metadata": {},
   "outputs": [],
   "source": [
    "name=\"Amit\""
   ]
  },
  {
   "cell_type": "code",
   "execution_count": 25,
   "id": "db818c76-4dc2-4c1b-9269-9bd819f297ea",
   "metadata": {},
   "outputs": [
    {
     "name": "stdout",
     "output_type": "stream",
     "text": [
      "My name is Amit\n"
     ]
    }
   ],
   "source": [
    "# fstring\n",
    "print(f\"My name is {name}\")"
   ]
  },
  {
   "cell_type": "code",
   "execution_count": 26,
   "id": "2458c0df-20c7-4be6-a0e5-362c1839c777",
   "metadata": {},
   "outputs": [
    {
     "name": "stdout",
     "output_type": "stream",
     "text": [
      "My name is Amit\n"
     ]
    }
   ],
   "source": [
    "# format\n",
    "\n",
    "print(\"My name is {first_name}\".format(first_name=name))"
   ]
  },
  {
   "cell_type": "markdown",
   "id": "340bc425-f5eb-49e9-97d9-2817ae29ff3a",
   "metadata": {},
   "source": [
    "## Control flow\n",
    "    1. if \n",
    "    2. if else\n",
    "    3. if elif\n",
    "    4. Nested if "
   ]
  },
  {
   "cell_type": "code",
   "execution_count": 28,
   "id": "2520dd64-74f2-4220-a8b6-22cfdce8371e",
   "metadata": {},
   "outputs": [],
   "source": [
    "age = 18"
   ]
  },
  {
   "cell_type": "code",
   "execution_count": null,
   "id": "2b7c38cb-75c8-405b-9dcc-57750995e2cd",
   "metadata": {},
   "outputs": [],
   "source": [
    "if age >= 18:\n",
    "    print(f\"Your age is {age}. You can vote as age is greater than 18.\")\n",
    "else:\n",
    "    print(f\"Your age is {age}. You can not vote as age is lower than 18.\")"
   ]
  },
  {
   "cell_type": "code",
   "execution_count": null,
   "id": "ba959fc9-170b-4eec-bb2c-fce2ed4d46b9",
   "metadata": {},
   "outputs": [],
   "source": [
    "## mall - input the product price\n",
    "## product >3000 rs 20% off\n",
    "## price is ==4000 you get a trip to Goa\n",
    "## print the product price after removing the discount\n",
    "## product >=2000 rs and <=3000 30% off\n",
    "## print the product price after removing the discount\n",
    "## price ==2999  u will get adiitional gift\n",
    "## product 100 rs and <=2000 40% off\n",
    "## print the product price after removing the discount"
   ]
  },
  {
   "cell_type": "code",
   "execution_count": 7,
   "id": "7588524f",
   "metadata": {},
   "outputs": [
    {
     "name": "stdout",
     "output_type": "stream",
     "text": [
      "There must be some wrong input. Please check again!!!\n"
     ]
    }
   ],
   "source": [
    "price = int(input(\"Enter the product's price: \"))\n",
    "if price > 3000:\n",
    "    price = price-(price*.20)\n",
    "    print(f\"The price after the discount is {price}\")\n",
    "elif price == 4000:\n",
    "    print(\"Nice you got the trip of GOA!!\")\n",
    "elif price >=2000 and price <=3000 :\n",
    "    price-=(price*.30)\n",
    "    print(\"The price is after 30% off is \",price)\n",
    "elif price >=100 and price <=2000 :\n",
    "    price-=(price*.40)\n",
    "    print(\"The price is after the 40% off is \",price)\n",
    "else:\n",
    "    print(\"There must be some wrong input. Please check again!!!\")\n",
    "\n",
    "\n"
   ]
  },
  {
   "cell_type": "markdown",
   "id": "e64a2d49",
   "metadata": {},
   "source": [
    "## Loops\n",
    "\n",
    "    1. while\n",
    "    2. for\n",
    "    3. nested loops\n",
    "    4. loop control (break, continue, pass)"
   ]
  },
  {
   "cell_type": "markdown",
   "id": "202216c4",
   "metadata": {},
   "source": [
    "### while"
   ]
  },
  {
   "cell_type": "code",
   "execution_count": 3,
   "id": "fc96cbff",
   "metadata": {},
   "outputs": [
    {
     "name": "stdout",
     "output_type": "stream",
     "text": [
      "46\n",
      "47\n",
      "48\n",
      "49\n",
      "50\n",
      "51\n",
      "52\n",
      "53\n",
      "54\n",
      "55\n",
      "56\n",
      "57\n",
      "58\n",
      "59\n",
      "60\n",
      "It's time to retire\n"
     ]
    }
   ],
   "source": [
    "joining_age = 45\n",
    "\n",
    "while joining_age<60:\n",
    "    joining_age+=1\n",
    "    print(joining_age)\n",
    "else:\n",
    "    print(\"It's time to retire\")"
   ]
  },
  {
   "cell_type": "markdown",
   "id": "5e2806dc",
   "metadata": {},
   "source": [
    "### for"
   ]
  },
  {
   "cell_type": "code",
   "execution_count": 10,
   "id": "893b5f45",
   "metadata": {},
   "outputs": [
    {
     "name": "stdout",
     "output_type": "stream",
     "text": [
      "M\n",
      "y\n",
      " \n",
      "n\n",
      "a\n",
      "m\n",
      "e\n",
      " \n",
      "i\n",
      "s\n",
      " \n",
      "A\n",
      "m\n",
      "i\n",
      "t\n",
      " \n",
      "K\n",
      "u\n",
      "m\n",
      "a\n",
      "r\n"
     ]
    }
   ],
   "source": [
    "data =\"My name is Amit Kumar\"\n",
    "\n",
    "for i in data:\n",
    "    print(i)"
   ]
  },
  {
   "cell_type": "markdown",
   "id": "145e3d02",
   "metadata": {},
   "source": [
    "### nested loops"
   ]
  },
  {
   "cell_type": "code",
   "execution_count": 11,
   "id": "132118cb",
   "metadata": {},
   "outputs": [
    {
     "name": "stdout",
     "output_type": "stream",
     "text": [
      "*\n",
      "**\n",
      "***\n",
      "****\n",
      "*****\n"
     ]
    }
   ],
   "source": [
    "n = int(input(\"Enter the number :\"))\n",
    "\n",
    "for i in range(0,n):\n",
    "    for j in range(0,i+1):\n",
    "        print(\"*\",end=\"\")\n",
    "    print('\\r')"
   ]
  },
  {
   "cell_type": "markdown",
   "id": "9b6b945f",
   "metadata": {},
   "source": [
    "### break continue"
   ]
  },
  {
   "cell_type": "code",
   "execution_count": 12,
   "id": "bb717ab2",
   "metadata": {},
   "outputs": [
    {
     "name": "stdout",
     "output_type": "stream",
     "text": [
      "1\n",
      "3\n",
      "3\n"
     ]
    }
   ],
   "source": [
    "num_list = [1,3,3,4,5,2,56]\n",
    "\n",
    "for i in num_list:\n",
    "    if i==4:\n",
    "        break\n",
    "    print(i)"
   ]
  },
  {
   "cell_type": "code",
   "execution_count": 13,
   "id": "f1170653",
   "metadata": {},
   "outputs": [
    {
     "name": "stdout",
     "output_type": "stream",
     "text": [
      "1\n",
      "3\n",
      "3\n",
      "4\n",
      "5\n",
      "2\n",
      "56\n"
     ]
    }
   ],
   "source": [
    "for i in num_list:\n",
    "    if i==4:\n",
    "        pass\n",
    "    print(i)"
   ]
  },
  {
   "cell_type": "code",
   "execution_count": 14,
   "id": "df853396",
   "metadata": {},
   "outputs": [
    {
     "name": "stdout",
     "output_type": "stream",
     "text": [
      "1\n",
      "3\n",
      "3\n",
      "5\n",
      "2\n",
      "56\n"
     ]
    }
   ],
   "source": [
    "for i in num_list:\n",
    "    if i==4:\n",
    "        continue\n",
    "    print(i)"
   ]
  }
 ],
 "metadata": {
  "kernelspec": {
   "display_name": "Python 3.8.10 64-bit",
   "language": "python",
   "name": "python3"
  },
  "language_info": {
   "codemirror_mode": {
    "name": "ipython",
    "version": 3
   },
   "file_extension": ".py",
   "mimetype": "text/x-python",
   "name": "python",
   "nbconvert_exporter": "python",
   "pygments_lexer": "ipython3",
   "version": "3.8.10"
  },
  "vscode": {
   "interpreter": {
    "hash": "e7370f93d1d0cde622a1f8e1c04877d8463912d04d973331ad4851f04de6915a"
   }
  }
 },
 "nbformat": 4,
 "nbformat_minor": 5
}
